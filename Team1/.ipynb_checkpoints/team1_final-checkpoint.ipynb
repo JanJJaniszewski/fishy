{
 "cells": [
  {
   "cell_type": "markdown",
   "metadata": {},
   "source": [
    "# Imports and variables"
   ]
  },
  {
   "cell_type": "code",
   "execution_count": null,
   "metadata": {
    "collapsed": false
   },
   "outputs": [
    {
     "name": "stderr",
     "output_type": "stream",
     "text": [
      "Using TensorFlow backend.\n"
     ]
    },
    {
     "name": "stdout",
     "output_type": "stream",
     "text": [
      "multi_gpu imported\n",
      "Imports imported\n"
     ]
    }
   ],
   "source": [
    "# Importing important stuff\n",
    "from First_start.imports import *\n",
    "from First_start.multi_gpu import *\n",
    "from First_start.init_vars import *\n",
    "from First_start.start_functions import *"
   ]
  },
  {
   "cell_type": "markdown",
   "metadata": {},
   "source": [
    "# Explanation"
   ]
  },
  {
   "cell_type": "markdown",
   "metadata": {},
   "source": [
    "## Fish types"
   ]
  },
  {
   "cell_type": "code",
   "execution_count": 2,
   "metadata": {
    "collapsed": false
   },
   "outputs": [
    {
     "data": {
      "text/html": [
       "<img src=\"https://kaggle2.blob.core.windows.net/competitions/kaggle/5568/media/species-ref-key.jpg\"/>"
      ],
      "text/plain": [
       "<IPython.core.display.Image object>"
      ]
     },
     "execution_count": 2,
     "metadata": {},
     "output_type": "execute_result"
    }
   ],
   "source": [
    "Image(url= \"https://kaggle2.blob.core.windows.net/competitions/kaggle/5568/media/species-ref-key.jpg\")"
   ]
  },
  {
   "cell_type": "markdown",
   "metadata": {},
   "source": [
    "Fish groups:\n",
    "\"NoF\":0\n",
    "\"ALB\":1\n",
    "\"BET\":2\n",
    "\"DOL\":3\n",
    "\"LAG\":4\n",
    "\"SHA\":5\n",
    "\"YFT\":6\n",
    "\"OTH\":7"
   ]
  },
  {
   "cell_type": "markdown",
   "metadata": {},
   "source": [
    "# Important Functions"
   ]
  },
  {
   "cell_type": "markdown",
   "metadata": {},
   "source": [
    "Make_parallel(model, gpu_count): You have 4 gpus, to use all four, use this function with your keras model\n",
    "\n"
   ]
  },
  {
   "cell_type": "markdown",
   "metadata": {},
   "source": [
    "# Code"
   ]
  },
  {
   "cell_type": "code",
   "execution_count": null,
   "metadata": {
    "collapsed": false
   },
   "outputs": [],
   "source": [
    "# Get x and y variables\n",
    "x_train, y_train, labels_train, x_test, y_test, labels_test, image_df = get_xy(folders_path='Data/Kaggle/train/*',\n",
    "                                                                               split=0.8,\n",
    "                                                                               img_size=(224, 224))\n",
    "\n",
    "# Let's check the shape of those variables\n",
    "print (x_train.shape, y_train.shape, x_test.shape, y_test.shape)"
   ]
  },
  {
   "cell_type": "code",
   "execution_count": null,
   "metadata": {
    "collapsed": false
   },
   "outputs": [],
   "source": [
    "# Count of the image types\n",
    "image_df.groupby('fish_type').count().sort_values('image_name')"
   ]
  },
  {
   "cell_type": "markdown",
   "metadata": {},
   "source": [
    "# Models\n",
    "\n",
    "## Idea1 (VGG16 + top_model):\n",
    "Use VGG16 or VGG19 as base and train a model on top of those.\n",
    "\n",
    "VGG16: https://gist.github.com/baraldilorenzo/07d7802847aaad0a35d3 \n",
    "\n",
    "VGG19: https://gist.github.com/baraldilorenzo/8d096f48a1be4a2d660d\n",
    "\n",
    "\n"
   ]
  },
  {
   "cell_type": "markdown",
   "metadata": {},
   "source": [
    "## Use VGG16, VGG19"
   ]
  },
  {
   "cell_type": "code",
   "execution_count": null,
   "metadata": {
    "collapsed": false
   },
   "outputs": [
    {
     "name": "stdout",
     "output_type": "stream",
     "text": [
      "Downloading data from https://github.com/fchollet/deep-learning-models/releases/download/v0.1/vgg16_weights_th_dim_ordering_th_kernels_notop.h5\n"
     ]
    },
    {
     "name": "stderr",
     "output_type": "stream",
     "text": [
      "/home/jan/anaconda2/Documents/lib/python2.7/site-packages/keras/applications/vgg16.py:145: UserWarning: You are using the TensorFlow backend, yet you are using the Theano image dimension ordering convention (`image_dim_ordering=\"th\"`). For best performance, set `image_dim_ordering=\"tf\"` in your Keras config at ~/.keras/keras.json.\n",
      "  warnings.warn('You are using the TensorFlow backend, yet you '\n"
     ]
    },
    {
     "name": "stdout",
     "output_type": "stream",
     "text": [
      "Downloading data from https://github.com/fchollet/deep-learning-models/releases/download/v0.1/vgg19_weights_th_dim_ordering_th_kernels.h5\n"
     ]
    }
   ],
   "source": [
    "vgg16 = VGG16(include_top=False)\n",
    "make_parallel(vgg16, gpu_count=4)\n",
    "\n",
    "vgg19_base = VGG19(weights='imagenet')\n",
    "# will not use all layers, as team did not want to use all layers, toen\n",
    "vgg19 = Model(input=vgg19_base.input, output=vgg19_base.get_layer('block4_pool').output)\n",
    "\n",
    "display('Done initializing models')\n",
    "\n",
    "x_train_vgg16 = vgg16.predict(x_train)\n",
    "x_test_vgg16 = vgg16.predict(x_test)\n",
    "\n",
    "x_train_vgg19 = vgg19.predict(x_train)\n",
    "x_test_vgg19 = vgg19.predict(x_test)"
   ]
  },
  {
   "cell_type": "markdown",
   "metadata": {},
   "source": [
    "## Top Model"
   ]
  },
  {
   "cell_type": "code",
   "execution_count": null,
   "metadata": {
    "collapsed": true
   },
   "outputs": [],
   "source": [
    "# build a classifier model to put on top of the convolutional model\n",
    "top_model = Sequential()\n",
    "top_model.add(Flatten(input_shape=(512, 14, 14)))\n",
    "top_model.add(Dense(256, activation='relu'))\n",
    "top_model.add(Dropout(0.5))\n",
    "top_model.add(Dense(8, activation='sigmoid'))\n",
    "top_model.compile(optimizer='rmsprop',\n",
    "                  loss='categorical_crossentropy',\n",
    "                  metrics=['binary_crossentropy'])"
   ]
  },
  {
   "cell_type": "code",
   "execution_count": null,
   "metadata": {
    "collapsed": true
   },
   "outputs": [],
   "source": [
    "top_model.fit(x_train_feat, y_train, validation_data=(x_test_feat, y_test))\n",
    "# Final evaluation of the model\n",
    "scores = top_model.evaluate(x_test_feat, y_test, verbose=0)\n",
    "classes = top_model.predict_proba(x_test_feat, batch_size=32)\n",
    "\n",
    "# get probability table\n",
    "proba_df = pd.DataFrame(classes)\n",
    "proba_df.columns = image_df.groupby('fish_type').count().index # workaround to get column names quickly and in right order\n",
    "\n",
    "print(scores)\n",
    "print(top_model.metrics_names)\n",
    "print(\"Score: %.2f%%\" % (scores[1]*10))\n",
    "#with all images: 37%\n",
    "print ' '\n",
    "proba_df['image'] = labels\n",
    "proba_df.to_csv('../Team 3/group3fantasticresults.csv')"
   ]
  }
 ],
 "metadata": {
  "anaconda-cloud": {},
  "kernelspec": {
   "display_name": "Python [default]",
   "language": "python",
   "name": "python2"
  },
  "language_info": {
   "codemirror_mode": {
    "name": "ipython",
    "version": 2
   },
   "file_extension": ".py",
   "mimetype": "text/x-python",
   "name": "python",
   "nbconvert_exporter": "python",
   "pygments_lexer": "ipython2",
   "version": "2.7.12"
  }
 },
 "nbformat": 4,
 "nbformat_minor": 1
}
