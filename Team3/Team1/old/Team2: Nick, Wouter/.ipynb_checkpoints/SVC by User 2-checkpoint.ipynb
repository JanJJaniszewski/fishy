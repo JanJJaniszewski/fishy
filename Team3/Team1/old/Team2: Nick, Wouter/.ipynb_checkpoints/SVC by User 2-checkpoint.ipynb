{
 "cells": [
  {
   "cell_type": "markdown",
   "metadata": {
    "deletable": true,
    "editable": true
   },
   "source": [
    "This is your private sketch-notebook. Do whatever you want with it. When code is ready to be developed, please just copy and paste it to the final notebook. "
   ]
  },
  {
   "cell_type": "code",
   "execution_count": 1,
   "metadata": {
    "collapsed": false,
    "deletable": true,
    "editable": true
   },
   "outputs": [
    {
     "name": "stderr",
     "output_type": "stream",
     "text": [
      "Using TensorFlow backend.\n"
     ]
    },
    {
     "name": "stdout",
     "output_type": "stream",
     "text": [
      "Imports imported\n",
      "multi_gpu imported\n",
      "Vars initialized (FISH_DICTS, seed)\n"
     ]
    }
   ],
   "source": [
    "import sys\n",
    "kaggle_path = '../../../Data/Kaggle/train/*'\n",
    "sys.path.append('../../..')\n",
    "from First_start.imports import *\n",
    "from First_start.multi_gpu import *\n",
    "from First_start.init_vars import *\n",
    "from First_start.start_functions import *\n",
    "%load_ext autoreload\n",
    "%autoreload 2"
   ]
  },
  {
   "cell_type": "code",
   "execution_count": null,
   "metadata": {
    "collapsed": true
   },
   "outputs": [],
   "source": [
    "# Get x and y variables\n",
    "x_train, y_train, x_test, y_test, image_df, dummy_df = get_xy(folders_path=kaggle_path, test_size=0.3,\n",
    "                                                              img_size=(224, 224), seed=seed)\n",
    "\n",
    "# Let's check the shape of those variables\n",
    "print (x_train.shape, y_train.shape, x_test.shape, y_test.shape)"
   ]
  },
  {
   "cell_type": "markdown",
   "metadata": {},
   "source": [
    "# Own Code"
   ]
  },
  {
   "cell_type": "code",
   "execution_count": 3,
   "metadata": {
    "collapsed": false,
    "deletable": true,
    "editable": true
   },
   "outputs": [
    {
     "data": {
      "text/html": [
       "<div>\n",
       "<table border=\"1\" class=\"dataframe\">\n",
       "  <thead>\n",
       "    <tr style=\"text-align: right;\">\n",
       "      <th></th>\n",
       "      <th>image_name</th>\n",
       "      <th>fish_type</th>\n",
       "    </tr>\n",
       "  </thead>\n",
       "  <tbody>\n",
       "    <tr>\n",
       "      <th>2035</th>\n",
       "      <td>../Data/Kaggle/train/YFT/img_05451.jpg</td>\n",
       "      <td>YFT</td>\n",
       "    </tr>\n",
       "    <tr>\n",
       "      <th>532</th>\n",
       "      <td>../Data/Kaggle/train/SHARK/img_07056.jpg</td>\n",
       "      <td>ARK</td>\n",
       "    </tr>\n",
       "    <tr>\n",
       "      <th>3515</th>\n",
       "      <td>../Data/Kaggle/train/YFT/img_01064.jpg</td>\n",
       "      <td>YFT</td>\n",
       "    </tr>\n",
       "    <tr>\n",
       "      <th>3141</th>\n",
       "      <td>../Data/Kaggle/train/NoF/img_00849.jpg</td>\n",
       "      <td>NoF</td>\n",
       "    </tr>\n",
       "    <tr>\n",
       "      <th>3074</th>\n",
       "      <td>../Data/Kaggle/train/DOL/img_07212.jpg</td>\n",
       "      <td>DOL</td>\n",
       "    </tr>\n",
       "  </tbody>\n",
       "</table>\n",
       "</div>"
      ],
      "text/plain": [
       "                                    image_name fish_type\n",
       "2035    ../Data/Kaggle/train/YFT/img_05451.jpg       YFT\n",
       "532   ../Data/Kaggle/train/SHARK/img_07056.jpg       ARK\n",
       "3515    ../Data/Kaggle/train/YFT/img_01064.jpg       YFT\n",
       "3141    ../Data/Kaggle/train/NoF/img_00849.jpg       NoF\n",
       "3074    ../Data/Kaggle/train/DOL/img_07212.jpg       DOL"
      ]
     },
     "execution_count": 3,
     "metadata": {},
     "output_type": "execute_result"
    }
   ],
   "source": [
    "# the folder path to the folder with all the fishies in there\n",
    "folders_path = '../Data/Kaggle/train/*'\n",
    "\n",
    "# creating a dataframe with the columns below\n",
    "image_dict = {}\n",
    "\n",
    "# going through all folders and saving file names in dataframe so that order is always correct\n",
    "for foldername in glob.glob(folders_path):\n",
    "    for image_name in glob.glob(foldername + '/*.jpg'):\n",
    "        # getting image name and fish type and putting it in a dictionary\n",
    "        fish_type = foldername[-3:]\n",
    "        image_dict[image_name] = fish_type\n",
    "\n",
    "image_df = pd.DataFrame(image_dict.items(), columns = ['image_name', 'fish_type']).sample(frac=1) # random sampling\n",
    "#dummy_df = pd.get_dummies(image_df, columns=['fish_type']) # dummify data\n",
    "\n",
    "image_df.head()"
   ]
  },
  {
   "cell_type": "code",
   "execution_count": 22,
   "metadata": {
    "collapsed": false,
    "deletable": true,
    "editable": true
   },
   "outputs": [],
   "source": [
    "X = []\n",
    "Y = []\n",
    "for (filename, fish_type) in image_df.iterrows():\n",
    "    # grab the image channels, initialize the tuple of colors,\n",
    "    # the figure and the flattened feature vector\n",
    "    img = cv2.imread(image_df.image_name[1])\n",
    "    chans = cv2.split(img)\n",
    "    colors = (\"b\", \"g\", \"r\")\n",
    "    features = []\n",
    "\n",
    "    # loop over the image channels\n",
    "    for (chan, color) in zip(chans, colors):\n",
    "        # create a histogram for the current channel and\n",
    "        # concatenate the resulting histograms for each\n",
    "        # channel\n",
    "        hist = cv2.calcHist([chan], [0], None, [256], [0, 256])\n",
    "        features.extend(hist)\n",
    "\n",
    "    X.append(features)\n",
    "    Y.append(fish_type)"
   ]
  },
  {
   "cell_type": "code",
   "execution_count": 31,
   "metadata": {
    "collapsed": false,
    "deletable": true,
    "editable": true
   },
   "outputs": [],
   "source": [
    "#type(X[0][0])\n",
    "#X[0][1][0]\n",
    "X1 = []\n",
    "for i in range(len(X)):\n",
    "    temp = []\n",
    "    for j in range(len(X[i])):\n",
    "        temp.append(X[i][j][0])\n",
    "    X1.append(temp)"
   ]
  },
  {
   "cell_type": "code",
   "execution_count": 40,
   "metadata": {
    "collapsed": true,
    "deletable": true,
    "editable": true
   },
   "outputs": [],
   "source": [
    "Y1 = []\n",
    "for i in range(len(Y)):\n",
    "    Y1.append(Y[i][1])"
   ]
  },
  {
   "cell_type": "code",
   "execution_count": 69,
   "metadata": {
    "collapsed": false,
    "deletable": true,
    "editable": true
   },
   "outputs": [],
   "source": [
    "from sklearn.model_selection import train_test_split\n",
    "Xtrain, Xtest, Ytrain, Ytest = train_test_split(X1, Y1, test_size=0.2, random_state=42)"
   ]
  },
  {
   "cell_type": "code",
   "execution_count": 89,
   "metadata": {
    "collapsed": false,
    "deletable": true,
    "editable": true
   },
   "outputs": [
    {
     "name": "stderr",
     "output_type": "stream",
     "text": [
      "/usr/local/lib/python2.7/dist-packages/sklearn/utils/class_weight.py:65: DeprecationWarning: The class_weight='auto' heuristic is deprecated in 0.17 in favor of a new heuristic class_weight='balanced'. 'auto' will be removed in 0.19\n",
      "  \" 0.19\", DeprecationWarning)\n",
      "/usr/local/lib/python2.7/dist-packages/sklearn/utils/class_weight.py:65: DeprecationWarning: The class_weight='auto' heuristic is deprecated in 0.17 in favor of a new heuristic class_weight='balanced'. 'auto' will be removed in 0.19\n",
      "  \" 0.19\", DeprecationWarning)\n",
      "/usr/local/lib/python2.7/dist-packages/sklearn/utils/class_weight.py:65: DeprecationWarning: The class_weight='auto' heuristic is deprecated in 0.17 in favor of a new heuristic class_weight='balanced'. 'auto' will be removed in 0.19\n",
      "  \" 0.19\", DeprecationWarning)\n",
      "/usr/local/lib/python2.7/dist-packages/sklearn/utils/class_weight.py:65: DeprecationWarning: The class_weight='auto' heuristic is deprecated in 0.17 in favor of a new heuristic class_weight='balanced'. 'auto' will be removed in 0.19\n",
      "  \" 0.19\", DeprecationWarning)\n",
      "/usr/local/lib/python2.7/dist-packages/sklearn/utils/class_weight.py:65: DeprecationWarning: The class_weight='auto' heuristic is deprecated in 0.17 in favor of a new heuristic class_weight='balanced'. 'auto' will be removed in 0.19\n",
      "  \" 0.19\", DeprecationWarning)\n",
      "/usr/local/lib/python2.7/dist-packages/sklearn/utils/class_weight.py:65: DeprecationWarning: The class_weight='auto' heuristic is deprecated in 0.17 in favor of a new heuristic class_weight='balanced'. 'auto' will be removed in 0.19\n",
      "  \" 0.19\", DeprecationWarning)\n",
      "/usr/local/lib/python2.7/dist-packages/sklearn/utils/class_weight.py:65: DeprecationWarning: The class_weight='auto' heuristic is deprecated in 0.17 in favor of a new heuristic class_weight='balanced'. 'auto' will be removed in 0.19\n",
      "  \" 0.19\", DeprecationWarning)\n",
      "/usr/local/lib/python2.7/dist-packages/sklearn/utils/class_weight.py:65: DeprecationWarning: The class_weight='auto' heuristic is deprecated in 0.17 in favor of a new heuristic class_weight='balanced'. 'auto' will be removed in 0.19\n",
      "  \" 0.19\", DeprecationWarning)\n",
      "/usr/local/lib/python2.7/dist-packages/sklearn/utils/class_weight.py:65: DeprecationWarning: The class_weight='auto' heuristic is deprecated in 0.17 in favor of a new heuristic class_weight='balanced'. 'auto' will be removed in 0.19\n",
      "  \" 0.19\", DeprecationWarning)\n",
      "/usr/local/lib/python2.7/dist-packages/sklearn/utils/class_weight.py:65: DeprecationWarning: The class_weight='auto' heuristic is deprecated in 0.17 in favor of a new heuristic class_weight='balanced'. 'auto' will be removed in 0.19\n",
      "  \" 0.19\", DeprecationWarning)\n",
      "/usr/local/lib/python2.7/dist-packages/sklearn/utils/class_weight.py:65: DeprecationWarning: The class_weight='auto' heuristic is deprecated in 0.17 in favor of a new heuristic class_weight='balanced'. 'auto' will be removed in 0.19\n",
      "  \" 0.19\", DeprecationWarning)\n",
      "/usr/local/lib/python2.7/dist-packages/sklearn/utils/class_weight.py:65: DeprecationWarning: The class_weight='auto' heuristic is deprecated in 0.17 in favor of a new heuristic class_weight='balanced'. 'auto' will be removed in 0.19\n",
      "  \" 0.19\", DeprecationWarning)\n",
      "/usr/local/lib/python2.7/dist-packages/sklearn/utils/class_weight.py:65: DeprecationWarning: The class_weight='auto' heuristic is deprecated in 0.17 in favor of a new heuristic class_weight='balanced'. 'auto' will be removed in 0.19\n",
      "  \" 0.19\", DeprecationWarning)\n",
      "/usr/local/lib/python2.7/dist-packages/sklearn/utils/class_weight.py:65: DeprecationWarning: The class_weight='auto' heuristic is deprecated in 0.17 in favor of a new heuristic class_weight='balanced'. 'auto' will be removed in 0.19\n",
      "  \" 0.19\", DeprecationWarning)\n",
      "/usr/local/lib/python2.7/dist-packages/sklearn/utils/class_weight.py:65: DeprecationWarning: The class_weight='auto' heuristic is deprecated in 0.17 in favor of a new heuristic class_weight='balanced'. 'auto' will be removed in 0.19\n",
      "  \" 0.19\", DeprecationWarning)\n",
      "/usr/local/lib/python2.7/dist-packages/sklearn/utils/class_weight.py:65: DeprecationWarning: The class_weight='auto' heuristic is deprecated in 0.17 in favor of a new heuristic class_weight='balanced'. 'auto' will be removed in 0.19\n",
      "  \" 0.19\", DeprecationWarning)\n",
      "/usr/local/lib/python2.7/dist-packages/sklearn/utils/class_weight.py:65: DeprecationWarning: The class_weight='auto' heuristic is deprecated in 0.17 in favor of a new heuristic class_weight='balanced'. 'auto' will be removed in 0.19\n",
      "  \" 0.19\", DeprecationWarning)\n",
      "/usr/local/lib/python2.7/dist-packages/sklearn/utils/class_weight.py:65: DeprecationWarning: The class_weight='auto' heuristic is deprecated in 0.17 in favor of a new heuristic class_weight='balanced'. 'auto' will be removed in 0.19\n",
      "  \" 0.19\", DeprecationWarning)\n",
      "/usr/local/lib/python2.7/dist-packages/sklearn/utils/class_weight.py:65: DeprecationWarning: The class_weight='auto' heuristic is deprecated in 0.17 in favor of a new heuristic class_weight='balanced'. 'auto' will be removed in 0.19\n",
      "  \" 0.19\", DeprecationWarning)\n",
      "/usr/local/lib/python2.7/dist-packages/sklearn/utils/class_weight.py:65: DeprecationWarning: The class_weight='auto' heuristic is deprecated in 0.17 in favor of a new heuristic class_weight='balanced'. 'auto' will be removed in 0.19\n",
      "  \" 0.19\", DeprecationWarning)\n",
      "/usr/local/lib/python2.7/dist-packages/sklearn/utils/class_weight.py:65: DeprecationWarning: The class_weight='auto' heuristic is deprecated in 0.17 in favor of a new heuristic class_weight='balanced'. 'auto' will be removed in 0.19\n",
      "  \" 0.19\", DeprecationWarning)\n",
      "/usr/local/lib/python2.7/dist-packages/sklearn/utils/class_weight.py:65: DeprecationWarning: The class_weight='auto' heuristic is deprecated in 0.17 in favor of a new heuristic class_weight='balanced'. 'auto' will be removed in 0.19\n",
      "  \" 0.19\", DeprecationWarning)\n",
      "/usr/local/lib/python2.7/dist-packages/sklearn/utils/class_weight.py:65: DeprecationWarning: The class_weight='auto' heuristic is deprecated in 0.17 in favor of a new heuristic class_weight='balanced'. 'auto' will be removed in 0.19\n",
      "  \" 0.19\", DeprecationWarning)\n",
      "/usr/local/lib/python2.7/dist-packages/sklearn/utils/class_weight.py:65: DeprecationWarning: The class_weight='auto' heuristic is deprecated in 0.17 in favor of a new heuristic class_weight='balanced'. 'auto' will be removed in 0.19\n",
      "  \" 0.19\", DeprecationWarning)\n",
      "/usr/local/lib/python2.7/dist-packages/sklearn/utils/class_weight.py:65: DeprecationWarning: The class_weight='auto' heuristic is deprecated in 0.17 in favor of a new heuristic class_weight='balanced'. 'auto' will be removed in 0.19\n",
      "  \" 0.19\", DeprecationWarning)\n",
      "/usr/local/lib/python2.7/dist-packages/sklearn/utils/class_weight.py:65: DeprecationWarning: The class_weight='auto' heuristic is deprecated in 0.17 in favor of a new heuristic class_weight='balanced'. 'auto' will be removed in 0.19\n",
      "  \" 0.19\", DeprecationWarning)\n",
      "/usr/local/lib/python2.7/dist-packages/sklearn/utils/class_weight.py:65: DeprecationWarning: The class_weight='auto' heuristic is deprecated in 0.17 in favor of a new heuristic class_weight='balanced'. 'auto' will be removed in 0.19\n",
      "  \" 0.19\", DeprecationWarning)\n",
      "/usr/local/lib/python2.7/dist-packages/sklearn/utils/class_weight.py:65: DeprecationWarning: The class_weight='auto' heuristic is deprecated in 0.17 in favor of a new heuristic class_weight='balanced'. 'auto' will be removed in 0.19\n",
      "  \" 0.19\", DeprecationWarning)\n"
     ]
    },
    {
     "data": {
      "text/plain": [
       "GridSearchCV(cv=3, error_score='raise',\n",
       "       estimator=SVC(C=1.0, cache_size=200, class_weight=None, coef0=0.0,\n",
       "  decision_function_shape=None, degree=3, gamma='auto', kernel='rbf',\n",
       "  max_iter=-1, probability=False, random_state=None, shrinking=True,\n",
       "  tol=0.001, verbose=False),\n",
       "       fit_params={}, iid=True, n_jobs=12,\n",
       "       param_grid={'C': [0.01, 0.1, 1.0], 'gamma': [0.0001, 0.001, 0.01], 'class_weight': ['auto']},\n",
       "       pre_dispatch='2*n_jobs', refit=True, return_train_score=True,\n",
       "       scoring=None, verbose=0)"
      ]
     },
     "execution_count": 89,
     "metadata": {},
     "output_type": "execute_result"
    }
   ],
   "source": [
    "from sklearn import svm\n",
    "from sklearn.model_selection import GridSearchCV\n",
    "\n",
    "param_grid = { \n",
    "    'C': [1e-2, 0.1, 1.0],\n",
    "    'gamma': [1e-4, 1e-3, 1e-2],\n",
    "    'class_weight': ['auto']\n",
    "}\n",
    "\n",
    "clf = svm.SVC()\n",
    "gs = GridSearchCV(clf, param_grid, cv=3, n_jobs=12)\n",
    "gs.fit(Xtrain, Ytrain)\n",
    "\n",
    "#clf = svm.SVC()\n",
    "#clf.fit(Xtrain, Ytrain)"
   ]
  },
  {
   "cell_type": "code",
   "execution_count": 91,
   "metadata": {
    "collapsed": false,
    "deletable": true,
    "editable": true
   },
   "outputs": [
    {
     "name": "stderr",
     "output_type": "stream",
     "text": [
      "/usr/local/lib/python2.7/dist-packages/sklearn/utils/class_weight.py:65: DeprecationWarning: The class_weight='auto' heuristic is deprecated in 0.17 in favor of a new heuristic class_weight='balanced'. 'auto' will be removed in 0.19\n",
      "  \" 0.19\", DeprecationWarning)\n"
     ]
    },
    {
     "data": {
      "text/plain": [
       "SVC(C=0.01, cache_size=200, class_weight='auto', coef0=0.0,\n",
       "  decision_function_shape=None, degree=3, gamma=0.0001, kernel='rbf',\n",
       "  max_iter=-1, probability=True, random_state=None, shrinking=True,\n",
       "  tol=0.001, verbose=False)"
      ]
     },
     "execution_count": 91,
     "metadata": {},
     "output_type": "execute_result"
    }
   ],
   "source": [
    "clf = svm.SVC(probability=True, **gs.best_params_)\n",
    "clf.fit(Xtrain, Ytrain)"
   ]
  },
  {
   "cell_type": "code",
   "execution_count": 49,
   "metadata": {
    "collapsed": false,
    "deletable": true,
    "editable": true
   },
   "outputs": [
    {
     "data": {
      "text/plain": [
       "array([ 0.45440127,  0.4547619 ,  0.45621019])"
      ]
     },
     "execution_count": 49,
     "metadata": {},
     "output_type": "execute_result"
    }
   ],
   "source": [
    "from sklearn.model_selection import cross_val_score\n",
    "cross_val_score(clf, X1, Y1)"
   ]
  },
  {
   "cell_type": "code",
   "execution_count": 50,
   "metadata": {
    "collapsed": true,
    "deletable": true,
    "editable": true
   },
   "outputs": [],
   "source": [
    "# the folder path to the folder with all the fishies in there\n",
    "folders_path = './images_imagenet/*'\n",
    "\n",
    "# creating a dataframe with the columns below\n",
    "image_dict = {}\n",
    "\n",
    "# going through all folders and saving file names in dataframe so that order is always correct\n",
    "for foldername in glob.glob(folders_path):\n",
    "    for image_name in glob.glob(foldername + '/*.jpg'):\n",
    "        # getting image name and fish type and putting it in a dictionary\n",
    "        fish_type = foldername[-3:]\n",
    "        image_dict[image_name] = fish_type\n",
    "\n",
    "image_df1 = pd.DataFrame(image_dict.items(), columns = ['image_name', 'fish_type']).sample(frac=1) # random sampling\n",
    "\n",
    "image_df1[\"fish_type_NoF\"] = [0] * len(image_df1.index)\n",
    "image_df1[\"fish_type_HER\"] = [0] * len(image_df1.index)\n",
    "image_df1[\"fish_type_BET\"] = [0] * len(image_df1.index)\n",
    "image_df1[\"fish_type_ALB\"] = [0] * len(image_df1.index)\n",
    "\n",
    "#dummy_df1 = pd.get_dummies(image_df1, columns=['fish_type']) # dummify data\n",
    "\n",
    "#dummy_df1[\"fish_type_NoF\"] = 0\n",
    "#dummy_df1[\"fish_type_HER\"] = 0\n",
    "#dummy_df1[\"fish_type_BET\"] = 0\n",
    "#dummy_df1[\"fish_type_ALB\"] = 0\n",
    "\n",
    "\n",
    "#dummy_df1.head()"
   ]
  },
  {
   "cell_type": "code",
   "execution_count": 51,
   "metadata": {
    "collapsed": true,
    "deletable": true,
    "editable": true
   },
   "outputs": [],
   "source": [
    "V = []\n",
    "W = []\n",
    "for (filename, fish_type) in image_df.iterrows():\n",
    "    # grab the image channels, initialize the tuple of colors,\n",
    "    # the figure and the flattened feature vector\n",
    "    img = cv2.imread(image_df.image_name[1])\n",
    "    chans = cv2.split(img)\n",
    "    colors = (\"b\", \"g\", \"r\")\n",
    "    features = []\n",
    "\n",
    "    # loop over the image channels\n",
    "    for (chan, color) in zip(chans, colors):\n",
    "        # create a histogram for the current channel and\n",
    "        # concatenate the resulting histograms for each\n",
    "        # channel\n",
    "        hist = cv2.calcHist([chan], [0], None, [256], [0, 256])\n",
    "        features.extend(hist)\n",
    "\n",
    "    V.append(features)\n",
    "    W.append(fish_type)"
   ]
  },
  {
   "cell_type": "code",
   "execution_count": 52,
   "metadata": {
    "collapsed": true,
    "deletable": true,
    "editable": true
   },
   "outputs": [],
   "source": [
    "V1 = []\n",
    "for i in range(len(V)):\n",
    "    temp = []\n",
    "    for j in range(len(V[i])):\n",
    "        temp.append(V[i][j][0])\n",
    "    V1.append(temp)"
   ]
  },
  {
   "cell_type": "code",
   "execution_count": 53,
   "metadata": {
    "collapsed": true,
    "deletable": true,
    "editable": true
   },
   "outputs": [],
   "source": [
    "W1 = []\n",
    "for i in range(len(W)):\n",
    "    W1.append(W[i][1])"
   ]
  },
  {
   "cell_type": "code",
   "execution_count": 92,
   "metadata": {
    "collapsed": false,
    "deletable": true,
    "editable": true
   },
   "outputs": [],
   "source": [
    "from sklearn.model_selection import cross_val_predict\n",
    "output = clf.predict(Xtest)"
   ]
  },
  {
   "cell_type": "code",
   "execution_count": 93,
   "metadata": {
    "collapsed": false,
    "deletable": true,
    "editable": true,
    "scrolled": true
   },
   "outputs": [
    {
     "data": {
      "text/plain": [
       "array(['DOL', 'DOL', 'DOL', 'DOL', 'DOL', 'DOL', 'DOL', 'DOL', 'DOL',\n",
       "       'DOL', 'DOL', 'DOL', 'DOL', 'DOL', 'DOL', 'DOL', 'DOL', 'DOL',\n",
       "       'DOL', 'DOL', 'DOL', 'DOL', 'DOL', 'DOL', 'DOL', 'DOL', 'DOL',\n",
       "       'DOL', 'DOL', 'DOL', 'DOL', 'DOL', 'DOL', 'DOL', 'DOL', 'DOL',\n",
       "       'DOL', 'DOL', 'DOL', 'DOL', 'DOL', 'DOL', 'DOL', 'DOL', 'DOL',\n",
       "       'DOL', 'DOL', 'DOL', 'DOL', 'DOL', 'DOL', 'DOL', 'DOL', 'DOL',\n",
       "       'DOL', 'DOL', 'DOL', 'DOL', 'DOL', 'DOL', 'DOL', 'DOL', 'DOL',\n",
       "       'DOL', 'DOL', 'DOL', 'DOL', 'DOL', 'DOL', 'DOL', 'DOL', 'DOL',\n",
       "       'DOL', 'DOL', 'DOL', 'DOL', 'DOL', 'DOL', 'DOL', 'DOL', 'DOL',\n",
       "       'DOL', 'DOL', 'DOL', 'DOL', 'DOL', 'DOL', 'DOL', 'DOL', 'DOL',\n",
       "       'DOL', 'DOL', 'DOL', 'DOL', 'DOL', 'DOL', 'DOL', 'DOL', 'DOL',\n",
       "       'DOL', 'DOL', 'DOL', 'DOL', 'DOL', 'DOL', 'DOL', 'DOL', 'DOL',\n",
       "       'DOL', 'DOL', 'DOL', 'DOL', 'DOL', 'DOL', 'DOL', 'DOL', 'DOL',\n",
       "       'DOL', 'DOL', 'DOL', 'DOL', 'DOL', 'DOL', 'DOL', 'DOL', 'DOL',\n",
       "       'DOL', 'DOL', 'DOL', 'DOL', 'DOL', 'DOL', 'DOL', 'DOL', 'DOL',\n",
       "       'DOL', 'DOL', 'DOL', 'DOL', 'DOL', 'DOL', 'DOL', 'DOL', 'DOL',\n",
       "       'DOL', 'DOL', 'DOL', 'DOL', 'DOL', 'DOL', 'DOL', 'DOL', 'DOL',\n",
       "       'DOL', 'DOL', 'DOL', 'DOL', 'DOL', 'DOL', 'DOL', 'DOL', 'DOL',\n",
       "       'DOL', 'DOL', 'DOL', 'DOL', 'DOL', 'DOL', 'DOL', 'DOL', 'DOL',\n",
       "       'DOL', 'DOL', 'DOL', 'DOL', 'DOL', 'DOL', 'DOL', 'DOL', 'DOL',\n",
       "       'DOL', 'DOL', 'DOL', 'DOL', 'DOL', 'DOL', 'DOL', 'DOL', 'DOL',\n",
       "       'DOL', 'DOL', 'DOL', 'DOL', 'DOL', 'DOL', 'DOL', 'DOL', 'DOL',\n",
       "       'DOL', 'DOL', 'DOL', 'DOL', 'DOL', 'DOL', 'DOL', 'DOL', 'DOL',\n",
       "       'DOL', 'DOL', 'DOL', 'DOL', 'DOL', 'DOL', 'DOL', 'DOL', 'DOL',\n",
       "       'DOL', 'DOL', 'DOL', 'DOL', 'DOL', 'DOL', 'DOL', 'DOL', 'DOL',\n",
       "       'DOL', 'DOL', 'DOL', 'DOL', 'DOL', 'DOL', 'DOL', 'DOL', 'DOL',\n",
       "       'DOL', 'DOL', 'DOL', 'DOL', 'DOL', 'DOL', 'DOL', 'DOL', 'DOL',\n",
       "       'DOL', 'DOL', 'DOL', 'DOL', 'DOL', 'DOL', 'DOL', 'DOL', 'DOL',\n",
       "       'DOL', 'DOL', 'DOL', 'DOL', 'DOL', 'DOL', 'DOL', 'DOL', 'DOL',\n",
       "       'DOL', 'DOL', 'DOL', 'DOL', 'DOL', 'DOL', 'DOL', 'DOL', 'DOL',\n",
       "       'DOL', 'DOL', 'DOL', 'DOL', 'DOL', 'DOL', 'DOL', 'DOL', 'DOL',\n",
       "       'DOL', 'DOL', 'DOL', 'DOL', 'DOL', 'DOL', 'DOL', 'DOL', 'DOL',\n",
       "       'DOL', 'DOL', 'DOL', 'DOL', 'DOL', 'DOL', 'DOL', 'DOL', 'DOL',\n",
       "       'DOL', 'DOL', 'DOL', 'DOL', 'DOL', 'DOL', 'DOL', 'DOL', 'DOL',\n",
       "       'DOL', 'DOL', 'DOL', 'DOL', 'DOL', 'DOL', 'DOL', 'DOL', 'DOL',\n",
       "       'DOL', 'DOL', 'DOL', 'DOL', 'DOL', 'DOL', 'DOL', 'DOL', 'DOL',\n",
       "       'DOL', 'DOL', 'DOL', 'DOL', 'DOL', 'DOL', 'DOL', 'DOL', 'DOL',\n",
       "       'DOL', 'DOL', 'DOL', 'DOL', 'DOL', 'DOL', 'DOL', 'DOL', 'DOL',\n",
       "       'DOL', 'DOL', 'DOL', 'DOL', 'DOL', 'DOL', 'DOL', 'DOL', 'DOL',\n",
       "       'DOL', 'DOL', 'DOL', 'DOL', 'DOL', 'DOL', 'DOL', 'DOL', 'DOL',\n",
       "       'DOL', 'DOL', 'DOL', 'DOL', 'DOL', 'DOL', 'DOL', 'DOL', 'DOL',\n",
       "       'DOL', 'DOL', 'DOL', 'DOL', 'DOL', 'DOL', 'DOL', 'DOL', 'DOL',\n",
       "       'DOL', 'DOL', 'DOL', 'DOL', 'DOL', 'DOL', 'DOL', 'DOL', 'DOL',\n",
       "       'DOL', 'DOL', 'DOL', 'DOL', 'DOL', 'DOL', 'DOL', 'DOL', 'DOL',\n",
       "       'DOL', 'DOL', 'DOL', 'DOL', 'DOL', 'DOL', 'DOL', 'DOL', 'DOL',\n",
       "       'DOL', 'DOL', 'DOL', 'DOL', 'DOL', 'DOL', 'DOL', 'DOL', 'DOL',\n",
       "       'DOL', 'DOL', 'DOL', 'DOL', 'DOL', 'DOL', 'DOL', 'DOL', 'DOL',\n",
       "       'DOL', 'DOL', 'DOL', 'DOL', 'DOL', 'DOL', 'DOL', 'DOL', 'DOL',\n",
       "       'DOL', 'DOL', 'DOL', 'DOL', 'DOL', 'DOL', 'DOL', 'DOL', 'DOL',\n",
       "       'DOL', 'DOL', 'DOL', 'DOL', 'DOL', 'DOL', 'DOL', 'DOL', 'DOL',\n",
       "       'DOL', 'DOL', 'DOL', 'DOL', 'DOL', 'DOL', 'DOL', 'DOL', 'DOL',\n",
       "       'DOL', 'DOL', 'DOL', 'DOL', 'DOL', 'DOL', 'DOL', 'DOL', 'DOL',\n",
       "       'DOL', 'DOL', 'DOL', 'DOL', 'DOL', 'DOL', 'DOL', 'DOL', 'DOL',\n",
       "       'DOL', 'DOL', 'DOL', 'DOL', 'DOL', 'DOL', 'DOL', 'DOL', 'DOL',\n",
       "       'DOL', 'DOL', 'DOL', 'DOL', 'DOL', 'DOL', 'DOL', 'DOL', 'DOL',\n",
       "       'DOL', 'DOL', 'DOL', 'DOL', 'DOL', 'DOL', 'DOL', 'DOL', 'DOL',\n",
       "       'DOL', 'DOL', 'DOL', 'DOL', 'DOL', 'DOL', 'DOL', 'DOL', 'DOL',\n",
       "       'DOL', 'DOL', 'DOL', 'DOL', 'DOL', 'DOL', 'DOL', 'DOL', 'DOL',\n",
       "       'DOL', 'DOL', 'DOL', 'DOL', 'DOL', 'DOL', 'DOL', 'DOL', 'DOL',\n",
       "       'DOL', 'DOL', 'DOL', 'DOL', 'DOL', 'DOL', 'DOL', 'DOL', 'DOL',\n",
       "       'DOL', 'DOL', 'DOL', 'DOL', 'DOL', 'DOL', 'DOL', 'DOL', 'DOL',\n",
       "       'DOL', 'DOL', 'DOL', 'DOL', 'DOL', 'DOL', 'DOL', 'DOL', 'DOL',\n",
       "       'DOL', 'DOL', 'DOL', 'DOL', 'DOL', 'DOL', 'DOL', 'DOL', 'DOL',\n",
       "       'DOL', 'DOL', 'DOL', 'DOL', 'DOL', 'DOL', 'DOL', 'DOL', 'DOL',\n",
       "       'DOL', 'DOL', 'DOL', 'DOL', 'DOL', 'DOL', 'DOL', 'DOL', 'DOL',\n",
       "       'DOL', 'DOL', 'DOL', 'DOL', 'DOL', 'DOL', 'DOL', 'DOL', 'DOL',\n",
       "       'DOL', 'DOL', 'DOL', 'DOL', 'DOL', 'DOL', 'DOL', 'DOL', 'DOL',\n",
       "       'DOL', 'DOL', 'DOL', 'DOL', 'DOL', 'DOL', 'DOL', 'DOL', 'DOL',\n",
       "       'DOL', 'DOL', 'DOL', 'DOL', 'DOL', 'DOL', 'DOL', 'DOL', 'DOL',\n",
       "       'DOL', 'DOL', 'DOL', 'DOL', 'DOL', 'DOL', 'DOL', 'DOL', 'DOL',\n",
       "       'DOL', 'DOL', 'DOL', 'DOL', 'DOL', 'DOL', 'DOL', 'DOL', 'DOL',\n",
       "       'DOL', 'DOL', 'DOL', 'DOL', 'DOL', 'DOL', 'DOL', 'DOL', 'DOL',\n",
       "       'DOL', 'DOL', 'DOL', 'DOL', 'DOL', 'DOL', 'DOL', 'DOL', 'DOL',\n",
       "       'DOL', 'DOL', 'DOL', 'DOL', 'DOL', 'DOL', 'DOL', 'DOL', 'DOL',\n",
       "       'DOL', 'DOL', 'DOL', 'DOL', 'DOL', 'DOL', 'DOL', 'DOL', 'DOL',\n",
       "       'DOL', 'DOL', 'DOL', 'DOL', 'DOL', 'DOL', 'DOL', 'DOL', 'DOL',\n",
       "       'DOL', 'DOL', 'DOL', 'DOL', 'DOL', 'DOL', 'DOL', 'DOL', 'DOL',\n",
       "       'DOL', 'DOL', 'DOL', 'DOL', 'DOL', 'DOL', 'DOL', 'DOL', 'DOL',\n",
       "       'DOL', 'DOL', 'DOL', 'DOL', 'DOL', 'DOL', 'DOL', 'DOL', 'DOL',\n",
       "       'DOL', 'DOL', 'DOL', 'DOL', 'DOL', 'DOL', 'DOL', 'DOL', 'DOL',\n",
       "       'DOL', 'DOL', 'DOL', 'DOL', 'DOL', 'DOL', 'DOL', 'DOL', 'DOL',\n",
       "       'DOL', 'DOL', 'DOL', 'DOL', 'DOL', 'DOL', 'DOL', 'DOL', 'DOL',\n",
       "       'DOL', 'DOL', 'DOL', 'DOL', 'DOL', 'DOL', 'DOL', 'DOL', 'DOL',\n",
       "       'DOL', 'DOL', 'DOL', 'DOL', 'DOL', 'DOL', 'DOL', 'DOL', 'DOL'], \n",
       "      dtype='|S3')"
      ]
     },
     "execution_count": 93,
     "metadata": {},
     "output_type": "execute_result"
    }
   ],
   "source": [
    "output"
   ]
  },
  {
   "cell_type": "code",
   "execution_count": 94,
   "metadata": {
    "collapsed": false,
    "deletable": true,
    "editable": true
   },
   "outputs": [],
   "source": [
    "from sklearn.metrics import confusion_matrix\n",
    "confm = confusion_matrix(Ytest, output)"
   ]
  },
  {
   "cell_type": "code",
   "execution_count": 95,
   "metadata": {
    "collapsed": false,
    "deletable": true,
    "editable": true
   },
   "outputs": [
    {
     "data": {
      "image/png": "[encoded data removed]",
      "text/plain": [
       "<matplotlib.figure.Figure at 0x7f7884b5ae90>"
      ]
     },
     "metadata": {},
     "output_type": "display_data"
    }
   ],
   "source": [
    "norm_conf = []\n",
    "for i in confm:\n",
    "    a = 0\n",
    "    tmp_arr = []\n",
    "    a = sum(i, 0)\n",
    "    for j in i:\n",
    "        tmp_arr.append(float(j)/float(a))\n",
    "    norm_conf.append(tmp_arr)\n",
    "\n",
    "fig = plt.figure()\n",
    "plt.clf()\n",
    "ax = fig.add_subplot(111)\n",
    "ax.set_aspect(1)\n",
    "res = ax.imshow(np.array(norm_conf), cmap=plt.cm.jet, \n",
    "                interpolation='nearest')\n",
    "\n",
    "width, height = confm.shape\n",
    "\n",
    "for x in xrange(width):\n",
    "    for y in xrange(height):\n",
    "        ax.annotate(str(confm[x][y]), xy=(y, x), \n",
    "                    horizontalalignment='center',\n",
    "                    verticalalignment='center')\n",
    "\n",
    "cb = fig.colorbar(res)\n",
    "#alphabet = 'ABCDEFGHIJKLMNOPQRSTUVWXYZ'\n",
    "#plt.xticks(range(width), alphabet[:width])\n",
    "#plt.yticks(range(height), alphabet[:height])\n",
    "#plt.savefig('confusion_matrix.png', format='png')\n"
   ]
  },
  {
   "cell_type": "code",
   "execution_count": 19,
   "metadata": {
    "collapsed": false,
    "deletable": true,
    "editable": true
   },
   "outputs": [],
   "source": [
    "# Smaller dataset for testing purposes!\n",
    "dummy_df = dummy_df.iloc[0:101,:]"
   ]
  },
  {
   "cell_type": "code",
   "execution_count": 21,
   "metadata": {
    "collapsed": false,
    "deletable": true,
    "editable": true
   },
   "outputs": [
    {
     "data": {
      "text/html": [
       "<div>\n",
       "<table border=\"1\" class=\"dataframe\">\n",
       "  <thead>\n",
       "    <tr style=\"text-align: right;\">\n",
       "      <th></th>\n",
       "      <th>image_name</th>\n",
       "    </tr>\n",
       "    <tr>\n",
       "      <th>fish_type</th>\n",
       "      <th></th>\n",
       "    </tr>\n",
       "  </thead>\n",
       "  <tbody>\n",
       "    <tr>\n",
       "      <th>LAG</th>\n",
       "      <td>67</td>\n",
       "    </tr>\n",
       "    <tr>\n",
       "      <th>DOL</th>\n",
       "      <td>117</td>\n",
       "    </tr>\n",
       "    <tr>\n",
       "      <th>ARK</th>\n",
       "      <td>176</td>\n",
       "    </tr>\n",
       "    <tr>\n",
       "      <th>BET</th>\n",
       "      <td>200</td>\n",
       "    </tr>\n",
       "    <tr>\n",
       "      <th>HER</th>\n",
       "      <td>299</td>\n",
       "    </tr>\n",
       "    <tr>\n",
       "      <th>NoF</th>\n",
       "      <td>465</td>\n",
       "    </tr>\n",
       "    <tr>\n",
       "      <th>YFT</th>\n",
       "      <td>734</td>\n",
       "    </tr>\n",
       "    <tr>\n",
       "      <th>ALB</th>\n",
       "      <td>1719</td>\n",
       "    </tr>\n",
       "  </tbody>\n",
       "</table>\n",
       "</div>"
      ],
      "text/plain": [
       "           image_name\n",
       "fish_type            \n",
       "LAG                67\n",
       "DOL               117\n",
       "ARK               176\n",
       "BET               200\n",
       "HER               299\n",
       "NoF               465\n",
       "YFT               734\n",
       "ALB              1719"
      ]
     },
     "execution_count": 21,
     "metadata": {},
     "output_type": "execute_result"
    }
   ],
   "source": [
    "# Count of the image types\n",
    "image_df.groupby('fish_type').count().sort_values('image_name')"
   ]
  },
  {
   "cell_type": "code",
   "execution_count": 22,
   "metadata": {
    "collapsed": false,
    "deletable": true,
    "editable": true
   },
   "outputs": [
    {
     "data": {
      "text/html": [
       "<div>\n",
       "<table border=\"1\" class=\"dataframe\">\n",
       "  <thead>\n",
       "    <tr style=\"text-align: right;\">\n",
       "      <th></th>\n",
       "      <th>image_name</th>\n",
       "      <th>fish_type_ALB</th>\n",
       "      <th>fish_type_ARK</th>\n",
       "      <th>fish_type_BET</th>\n",
       "      <th>fish_type_DOL</th>\n",
       "      <th>fish_type_HER</th>\n",
       "      <th>fish_type_LAG</th>\n",
       "      <th>fish_type_NoF</th>\n",
       "      <th>fish_type_YFT</th>\n",
       "      <th>image_bytes</th>\n",
       "    </tr>\n",
       "  </thead>\n",
       "  <tbody>\n",
       "    <tr>\n",
       "      <th>563</th>\n",
       "      <td>../Data/Kaggle/train/OTHER/img_02528.jpg</td>\n",
       "      <td>0</td>\n",
       "      <td>0</td>\n",
       "      <td>0</td>\n",
       "      <td>0</td>\n",
       "      <td>1</td>\n",
       "      <td>0</td>\n",
       "      <td>0</td>\n",
       "      <td>0</td>\n",
       "      <td>[[[0.71427, 0.702505, 0.706427, 0.71427, 0.690...</td>\n",
       "    </tr>\n",
       "    <tr>\n",
       "      <th>3369</th>\n",
       "      <td>../Data/Kaggle/train/SHARK/img_01795.jpg</td>\n",
       "      <td>0</td>\n",
       "      <td>1</td>\n",
       "      <td>0</td>\n",
       "      <td>0</td>\n",
       "      <td>0</td>\n",
       "      <td>0</td>\n",
       "      <td>0</td>\n",
       "      <td>0</td>\n",
       "      <td>[[[0.776979, 0.765214, 0.769135, 0.776979, 0.7...</td>\n",
       "    </tr>\n",
       "    <tr>\n",
       "      <th>548</th>\n",
       "      <td>../Data/Kaggle/train/ALB/img_06286.jpg</td>\n",
       "      <td>1</td>\n",
       "      <td>0</td>\n",
       "      <td>0</td>\n",
       "      <td>0</td>\n",
       "      <td>0</td>\n",
       "      <td>0</td>\n",
       "      <td>0</td>\n",
       "      <td>0</td>\n",
       "      <td>[[[0.583323, 0.571558, 0.57548, 0.583323, 0.55...</td>\n",
       "    </tr>\n",
       "    <tr>\n",
       "      <th>1411</th>\n",
       "      <td>../Data/Kaggle/train/YFT/img_03607.jpg</td>\n",
       "      <td>0</td>\n",
       "      <td>0</td>\n",
       "      <td>0</td>\n",
       "      <td>0</td>\n",
       "      <td>0</td>\n",
       "      <td>0</td>\n",
       "      <td>0</td>\n",
       "      <td>1</td>\n",
       "      <td>[[[-0.310383, -0.212344, -0.212344, -0.200579,...</td>\n",
       "    </tr>\n",
       "    <tr>\n",
       "      <th>2268</th>\n",
       "      <td>../Data/Kaggle/train/ALB/img_03293.jpg</td>\n",
       "      <td>1</td>\n",
       "      <td>0</td>\n",
       "      <td>0</td>\n",
       "      <td>0</td>\n",
       "      <td>0</td>\n",
       "      <td>0</td>\n",
       "      <td>0</td>\n",
       "      <td>0</td>\n",
       "      <td>[[[0.598294, 0.586529, 0.59045, 0.598294, 0.57...</td>\n",
       "    </tr>\n",
       "  </tbody>\n",
       "</table>\n",
       "</div>"
      ],
      "text/plain": [
       "                                    image_name  fish_type_ALB  fish_type_ARK  \\\n",
       "563   ../Data/Kaggle/train/OTHER/img_02528.jpg              0              0   \n",
       "3369  ../Data/Kaggle/train/SHARK/img_01795.jpg              0              1   \n",
       "548     ../Data/Kaggle/train/ALB/img_06286.jpg              1              0   \n",
       "1411    ../Data/Kaggle/train/YFT/img_03607.jpg              0              0   \n",
       "2268    ../Data/Kaggle/train/ALB/img_03293.jpg              1              0   \n",
       "\n",
       "      fish_type_BET  fish_type_DOL  fish_type_HER  fish_type_LAG  \\\n",
       "563               0              0              1              0   \n",
       "3369              0              0              0              0   \n",
       "548               0              0              0              0   \n",
       "1411              0              0              0              0   \n",
       "2268              0              0              0              0   \n",
       "\n",
       "      fish_type_NoF  fish_type_YFT  \\\n",
       "563               0              0   \n",
       "3369              0              0   \n",
       "548               0              0   \n",
       "1411              0              1   \n",
       "2268              0              0   \n",
       "\n",
       "                                            image_bytes  \n",
       "563   [[[0.71427, 0.702505, 0.706427, 0.71427, 0.690...  \n",
       "3369  [[[0.776979, 0.765214, 0.769135, 0.776979, 0.7...  \n",
       "548   [[[0.583323, 0.571558, 0.57548, 0.583323, 0.55...  \n",
       "1411  [[[-0.310383, -0.212344, -0.212344, -0.200579,...  \n",
       "2268  [[[0.598294, 0.586529, 0.59045, 0.598294, 0.57...  "
      ]
     },
     "execution_count": 22,
     "metadata": {},
     "output_type": "execute_result"
    }
   ],
   "source": [
    "count = 0 # count, to test the algorithm with 100 pictures\n",
    "images = []\n",
    "\n",
    "for filename in dummy_df.image_name:\n",
    "    img = cv2.imread(filename) # Read file    \n",
    "    img = cv2.resize(img, (224, 224)) # Resize image to 224 x 224 pixels (dont feel obliged to use this)\n",
    "    img = img.astype(np.float32) # Change to 32 bit floats (good for neural networks, other floats not as much making sense)\n",
    "\n",
    "    # \"Normalize\" images\n",
    "    for rgb_value in [0,1,2]:\n",
    "        img[:, :, rgb_value] = img[:, :, rgb_value] / 255.0 # 255 is the RGB maximum\n",
    "        img[:, :, rgb_value] -= numpy.mean(img[:, :, rgb_value])\n",
    "\n",
    "    img = img.transpose((2,0,1))\n",
    "\n",
    "    images.append(img)\n",
    "\n",
    "# X and y value and labels\n",
    "x = np.asarray(images)\n",
    "y = dummy_df.iloc[:,1:9].as_matrix()\n",
    "labels = dummy_df.image_name.apply(lambda path: path[-13:])\n",
    "\n",
    "# table, just to be sure that everything goes well\n",
    "dummy_df['image_bytes'] = images\n",
    "dummy_df.head()"
   ]
  },
  {
   "cell_type": "code",
   "execution_count": 8,
   "metadata": {
    "collapsed": false,
    "deletable": true,
    "editable": true
   },
   "outputs": [],
   "source": [
    "split_no = 90\n",
    "\n",
    "x_train = x[:split_no]\n",
    "y_train = y[:split_no]\n",
    "labels_train = labels[:split_no]\n",
    "\n",
    "x_test = x[split_no:]\n",
    "y_test = y[split_no:]\n",
    "labels_test = labels[split_no:]"
   ]
  },
  {
   "cell_type": "code",
   "execution_count": 9,
   "metadata": {
    "collapsed": false,
    "deletable": true,
    "editable": true
   },
   "outputs": [
    {
     "name": "stdout",
     "output_type": "stream",
     "text": [
      "____________________________________________________________________________________________________\n",
      "Layer (type)                     Output Shape          Param #     Connected to                     \n",
      "====================================================================================================\n",
      "convolution2d_1 (Convolution2D)  (None, 32, 224, 224)  896         convolution2d_input_1[0][0]      \n",
      "____________________________________________________________________________________________________\n",
      "dropout_1 (Dropout)              (None, 32, 224, 224)  0           convolution2d_1[0][0]            \n",
      "____________________________________________________________________________________________________\n",
      "convolution2d_2 (Convolution2D)  (None, 32, 224, 224)  9248        dropout_1[0][0]                  \n",
      "____________________________________________________________________________________________________\n",
      "maxpooling2d_1 (MaxPooling2D)    (None, 32, 112, 112)  0           convolution2d_2[0][0]            \n",
      "____________________________________________________________________________________________________\n",
      "flatten_1 (Flatten)              (None, 401408)        0           maxpooling2d_1[0][0]             \n",
      "____________________________________________________________________________________________________\n",
      "dense_1 (Dense)                  (None, 512)           205521408   flatten_1[0][0]                  \n",
      "____________________________________________________________________________________________________\n",
      "dropout_2 (Dropout)              (None, 512)           0           dense_1[0][0]                    \n",
      "____________________________________________________________________________________________________\n",
      "dense_2 (Dense)                  (None, 8)             4104        dropout_2[0][0]                  \n",
      "====================================================================================================\n",
      "Total params: 205,535,656\n",
      "Trainable params: 205,535,656\n",
      "Non-trainable params: 0\n",
      "____________________________________________________________________________________________________\n",
      "None\n"
     ]
    }
   ],
   "source": [
    "model = Sequential()\n",
    "model.add(Convolution2D(32, 3, 3, input_shape=(3, 224, 224), border_mode='same', activation='relu', W_constraint=maxnorm(3)))\n",
    "model.add(Dropout(0.2))\n",
    "model.add(Convolution2D(32, 3, 3, activation='relu', border_mode='same', W_constraint=maxnorm(3)))\n",
    "model.add(MaxPooling2D(pool_size=(2, 2)))\n",
    "model.add(Flatten())\n",
    "model.add(Dense(512, activation='relu', W_constraint=maxnorm(3)))\n",
    "model.add(Dropout(0.5))\n",
    "model.add(Dense(8, activation='softmax'))\n",
    "# Compile model\n",
    "epochs = 1 # dont leave it like this, only for testing!\n",
    "lrate = 0.01\n",
    "decay = lrate/epochs\n",
    "sgd = SGD(lr=lrate, momentum=0.9, decay=decay, nesterov=False)\n",
    "model.compile(loss='categorical_crossentropy', optimizer=sgd, metrics=['accuracy'])\n",
    "print(model.summary())"
   ]
  },
  {
   "cell_type": "code",
   "execution_count": 10,
   "metadata": {
    "collapsed": false,
    "deletable": true,
    "editable": true
   },
   "outputs": [
    {
     "name": "stdout",
     "output_type": "stream",
     "text": [
      "Train on 90 samples, validate on 11 samples\n",
      "Epoch 1/1\n",
      "90/90 [==============================] - 12s - loss: 1.9839 - acc: 0.4111 - val_loss: 1.6874 - val_acc: 0.3636\b\b\b\b\b\b\b\b\b\b\b\b\b\b\b\b\b\b\b\b\b\b\b\b\b\b\b\b\b\b\b\b\b\b\b\b\b\b\b\b\b\b\b\b\b\b\b\b\b\b\b\b\b\b\b\b\b\b\b\b\b\b\b\b\b\b\b\b\b\b\b\b\b\b\b\b\b\b\b\b\b\b\b\b\b\b\b\b\b\b\b\b\b\b\b\b\b\b\b\b\b\b\b\b\b\b\b\b\b\b\b\b\b\b\b\b\b\b\b\b\b\n",
      "11/11 [==============================] - 0s\n",
      "Accuracy: 36.36%\n",
      " \n"
     ]
    },
    {
     "data": {
      "text/html": [
       "<div>\n",
       "<table border=\"1\" class=\"dataframe\">\n",
       "  <thead>\n",
       "    <tr style=\"text-align: right;\">\n",
       "      <th>fish_type</th>\n",
       "      <th>ALB</th>\n",
       "      <th>ARK</th>\n",
       "      <th>BET</th>\n",
       "      <th>DOL</th>\n",
       "      <th>HER</th>\n",
       "      <th>LAG</th>\n",
       "      <th>NoF</th>\n",
       "      <th>YFT</th>\n",
       "    </tr>\n",
       "  </thead>\n",
       "  <tbody>\n",
       "    <tr>\n",
       "      <th>0</th>\n",
       "      <td>0.423125</td>\n",
       "      <td>0.069086</td>\n",
       "      <td>0.086060</td>\n",
       "      <td>0.035125</td>\n",
       "      <td>0.109103</td>\n",
       "      <td>0.022536</td>\n",
       "      <td>0.064302</td>\n",
       "      <td>0.190663</td>\n",
       "    </tr>\n",
       "    <tr>\n",
       "      <th>1</th>\n",
       "      <td>0.421642</td>\n",
       "      <td>0.070203</td>\n",
       "      <td>0.076487</td>\n",
       "      <td>0.054563</td>\n",
       "      <td>0.122197</td>\n",
       "      <td>0.040422</td>\n",
       "      <td>0.075519</td>\n",
       "      <td>0.138968</td>\n",
       "    </tr>\n",
       "    <tr>\n",
       "      <th>2</th>\n",
       "      <td>0.458518</td>\n",
       "      <td>0.065818</td>\n",
       "      <td>0.069579</td>\n",
       "      <td>0.051640</td>\n",
       "      <td>0.119346</td>\n",
       "      <td>0.038697</td>\n",
       "      <td>0.066064</td>\n",
       "      <td>0.130337</td>\n",
       "    </tr>\n",
       "    <tr>\n",
       "      <th>3</th>\n",
       "      <td>0.416392</td>\n",
       "      <td>0.069272</td>\n",
       "      <td>0.080653</td>\n",
       "      <td>0.050310</td>\n",
       "      <td>0.134840</td>\n",
       "      <td>0.031809</td>\n",
       "      <td>0.071212</td>\n",
       "      <td>0.145512</td>\n",
       "    </tr>\n",
       "    <tr>\n",
       "      <th>4</th>\n",
       "      <td>0.404307</td>\n",
       "      <td>0.073336</td>\n",
       "      <td>0.082809</td>\n",
       "      <td>0.052671</td>\n",
       "      <td>0.124707</td>\n",
       "      <td>0.041288</td>\n",
       "      <td>0.074341</td>\n",
       "      <td>0.146541</td>\n",
       "    </tr>\n",
       "    <tr>\n",
       "      <th>5</th>\n",
       "      <td>0.235705</td>\n",
       "      <td>0.108864</td>\n",
       "      <td>0.123543</td>\n",
       "      <td>0.076935</td>\n",
       "      <td>0.120574</td>\n",
       "      <td>0.061900</td>\n",
       "      <td>0.100954</td>\n",
       "      <td>0.171525</td>\n",
       "    </tr>\n",
       "    <tr>\n",
       "      <th>6</th>\n",
       "      <td>0.436765</td>\n",
       "      <td>0.064467</td>\n",
       "      <td>0.067968</td>\n",
       "      <td>0.051210</td>\n",
       "      <td>0.118235</td>\n",
       "      <td>0.034705</td>\n",
       "      <td>0.072924</td>\n",
       "      <td>0.153726</td>\n",
       "    </tr>\n",
       "    <tr>\n",
       "      <th>7</th>\n",
       "      <td>0.398049</td>\n",
       "      <td>0.078053</td>\n",
       "      <td>0.081770</td>\n",
       "      <td>0.044163</td>\n",
       "      <td>0.135299</td>\n",
       "      <td>0.028894</td>\n",
       "      <td>0.061562</td>\n",
       "      <td>0.172210</td>\n",
       "    </tr>\n",
       "    <tr>\n",
       "      <th>8</th>\n",
       "      <td>0.326164</td>\n",
       "      <td>0.086616</td>\n",
       "      <td>0.098806</td>\n",
       "      <td>0.074431</td>\n",
       "      <td>0.127018</td>\n",
       "      <td>0.054024</td>\n",
       "      <td>0.086574</td>\n",
       "      <td>0.146366</td>\n",
       "    </tr>\n",
       "    <tr>\n",
       "      <th>9</th>\n",
       "      <td>0.285160</td>\n",
       "      <td>0.088849</td>\n",
       "      <td>0.098600</td>\n",
       "      <td>0.082511</td>\n",
       "      <td>0.122335</td>\n",
       "      <td>0.060240</td>\n",
       "      <td>0.097439</td>\n",
       "      <td>0.164866</td>\n",
       "    </tr>\n",
       "    <tr>\n",
       "      <th>10</th>\n",
       "      <td>0.382648</td>\n",
       "      <td>0.081294</td>\n",
       "      <td>0.082643</td>\n",
       "      <td>0.052690</td>\n",
       "      <td>0.143937</td>\n",
       "      <td>0.035085</td>\n",
       "      <td>0.066937</td>\n",
       "      <td>0.154766</td>\n",
       "    </tr>\n",
       "  </tbody>\n",
       "</table>\n",
       "</div>"
      ],
      "text/plain": [
       "fish_type       ALB       ARK       BET       DOL       HER       LAG  \\\n",
       "0          0.423125  0.069086  0.086060  0.035125  0.109103  0.022536   \n",
       "1          0.421642  0.070203  0.076487  0.054563  0.122197  0.040422   \n",
       "2          0.458518  0.065818  0.069579  0.051640  0.119346  0.038697   \n",
       "3          0.416392  0.069272  0.080653  0.050310  0.134840  0.031809   \n",
       "4          0.404307  0.073336  0.082809  0.052671  0.124707  0.041288   \n",
       "5          0.235705  0.108864  0.123543  0.076935  0.120574  0.061900   \n",
       "6          0.436765  0.064467  0.067968  0.051210  0.118235  0.034705   \n",
       "7          0.398049  0.078053  0.081770  0.044163  0.135299  0.028894   \n",
       "8          0.326164  0.086616  0.098806  0.074431  0.127018  0.054024   \n",
       "9          0.285160  0.088849  0.098600  0.082511  0.122335  0.060240   \n",
       "10         0.382648  0.081294  0.082643  0.052690  0.143937  0.035085   \n",
       "\n",
       "fish_type       NoF       YFT  \n",
       "0          0.064302  0.190663  \n",
       "1          0.075519  0.138968  \n",
       "2          0.066064  0.130337  \n",
       "3          0.071212  0.145512  \n",
       "4          0.074341  0.146541  \n",
       "5          0.100954  0.171525  \n",
       "6          0.072924  0.153726  \n",
       "7          0.061562  0.172210  \n",
       "8          0.086574  0.146366  \n",
       "9          0.097439  0.164866  \n",
       "10         0.066937  0.154766  "
      ]
     },
     "execution_count": 10,
     "metadata": {},
     "output_type": "execute_result"
    }
   ],
   "source": [
    "# Fit the model\n",
    "model.fit(x_train, y_train, validation_data=(x_test, y_test), nb_epoch=epochs, batch_size=32)\n",
    "# Final evaluation of the model\n",
    "scores = model.evaluate(x_test, y_test, verbose=0)\n",
    "classes = model.predict_proba(x_test, batch_size=32)\n",
    "\n",
    "# get probability table\n",
    "proba_df = pd.DataFrame(classes)\n",
    "proba_df.columns = image_df.groupby('fish_type').count().index # workaround to get column names quickly and in right order\n",
    "\n",
    "print(\"Accuracy: %.2f%%\" % (scores[1]*100))\n",
    "print ' '\n",
    "proba_df"
   ]
  },
  {
   "cell_type": "code",
   "execution_count": 11,
   "metadata": {
    "collapsed": false,
    "deletable": true,
    "editable": true
   },
   "outputs": [],
   "source": [
    "proba_df['img_names'] = labels_test.values"
   ]
  },
  {
   "cell_type": "code",
   "execution_count": 16,
   "metadata": {
    "collapsed": false,
    "deletable": true,
    "editable": true
   },
   "outputs": [
    {
     "ename": "ImportError",
     "evalue": "No module named Image",
     "output_type": "error",
     "traceback": [
      "\u001b[0;31m\u001b[0m",
      "\u001b[0;31mImportError\u001b[0mTraceback (most recent call last)",
      "\u001b[0;32m<ipython-input-16-7c4ae7217789>\u001b[0m in \u001b[0;36m<module>\u001b[0;34m()\u001b[0m\n\u001b[0;32m----> 1\u001b[0;31m \u001b[0;32mimport\u001b[0m \u001b[0mImage\u001b[0m\u001b[0;34m\u001b[0m\u001b[0m\n\u001b[0m\u001b[1;32m      2\u001b[0m \u001b[0;32mimport\u001b[0m \u001b[0murllib2\u001b[0m\u001b[0;34m\u001b[0m\u001b[0m\n\u001b[1;32m      3\u001b[0m \u001b[0;34m\u001b[0m\u001b[0m\n\u001b[1;32m      4\u001b[0m \u001b[0;32mimport\u001b[0m \u001b[0murllib\u001b[0m\u001b[0;34m,\u001b[0m \u001b[0mcStringIO\u001b[0m\u001b[0;34m\u001b[0m\u001b[0m\n\u001b[1;32m      5\u001b[0m \u001b[0;34m\u001b[0m\u001b[0m\n",
      "\u001b[0;31mImportError\u001b[0m: No module named Image"
     ]
    }
   ],
   "source": [
    "import Image\n",
    "import urllib2\n",
    "\n",
    "import urllib, cStringIO\n",
    "\n",
    "\n",
    "links = urllib2.urlopen(\"http://image-net.org/api/text/imagenet.synset.geturls?wnid=n02627037\").read()\n",
    "\n",
    "links = links.splitlines()\n",
    "\n",
    "\n",
    "for URL in links:\n",
    "\n",
    "    img = Image.open(url = URL)\n",
    "\n",
    "img\n",
    "\n",
    "\n",
    "    \n",
    "\n"
   ]
  }
 ],
 "metadata": {
  "kernelspec": {
   "display_name": "Python 3",
   "language": "python",
   "name": "python3"
  },
  "language_info": {
   "codemirror_mode": {
    "name": "ipython",
    "version": 3
   },
   "file_extension": ".py",
   "mimetype": "text/x-python",
   "name": "python",
   "nbconvert_exporter": "python",
   "pygments_lexer": "ipython3",
   "version": "3.5.2"
  }
 },
 "nbformat": 4,
 "nbformat_minor": 2
}
